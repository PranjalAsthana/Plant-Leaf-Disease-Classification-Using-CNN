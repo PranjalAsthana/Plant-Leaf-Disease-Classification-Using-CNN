{
  "nbformat": 4,
  "nbformat_minor": 0,
  "metadata": {
    "colab": {
      "provenance": [],
      "authorship_tag": "ABX9TyNAi1wu+JBYgSb0DrtOczDD",
      "include_colab_link": true
    },
    "kernelspec": {
      "name": "python3",
      "display_name": "Python 3"
    },
    "language_info": {
      "name": "python"
    }
  },
  "cells": [
    {
      "cell_type": "markdown",
      "metadata": {
        "id": "view-in-github",
        "colab_type": "text"
      },
      "source": [
        "<a href=\"https://colab.research.google.com/github/PranjalAsthana/Plant-Leaf-Disease-Classification-Using-CNN/blob/main/Leaf.ipynb\" target=\"_parent\"><img src=\"https://colab.research.google.com/assets/colab-badge.svg\" alt=\"Open In Colab\"/></a>"
      ]
    },
    {
      "cell_type": "code",
      "execution_count": 1,
      "metadata": {
        "id": "59mSo93K3-nZ"
      },
      "outputs": [],
      "source": [
        "!pip install -q opendatasets"
      ]
    },
    {
      "cell_type": "code",
      "source": [
        "import opendatasets as od\n",
        "import pandas as pd\n",
        "import numpy as np\n",
        "import tensorflow as tf\n",
        "from tensorflow.keras.models import Sequential\n",
        "from tensorflow.keras.layers import Conv2D, MaxPooling2D, Flatten, Dense"
      ],
      "metadata": {
        "id": "h4xM3NHY4CIV"
      },
      "execution_count": 2,
      "outputs": []
    },
    {
      "cell_type": "code",
      "source": [
        "od.download('https://www.kaggle.com/datasets/rashikrahmanpritom/plant-disease-recognition-dataset') # insert ypu kaggle  username and key"
      ],
      "metadata": {
        "colab": {
          "base_uri": "https://localhost:8080/"
        },
        "id": "nCYf8P8a4CK3",
        "outputId": "e00faecb-6bb8-4e19-b090-a148854cfb05"
      },
      "execution_count": 3,
      "outputs": [
        {
          "output_type": "stream",
          "name": "stdout",
          "text": [
            "Please provide your Kaggle credentials to download this dataset. Learn more: http://bit.ly/kaggle-creds\n",
            "Your Kaggle username: alonemusk69\n",
            "Your Kaggle Key: ··········\n",
            "Downloading plant-disease-recognition-dataset.zip to ./plant-disease-recognition-dataset\n"
          ]
        },
        {
          "output_type": "stream",
          "name": "stderr",
          "text": [
            "100%|██████████| 1.25G/1.25G [00:15<00:00, 85.6MB/s]\n"
          ]
        },
        {
          "output_type": "stream",
          "name": "stdout",
          "text": [
            "\n"
          ]
        }
      ]
    },
    {
      "cell_type": "code",
      "source": [
        "# Test = pd.read_csv('/content/plant-disease-recognition-dataset/Test/Test')\n",
        "# Train= pd.read_csv('/content/plant-disease-recognition-dataset/Train/Train')\n",
        "# Validation = pd.read_csv('/content/plant-disease-recognition-dataset/Validation/Validation')"
      ],
      "metadata": {
        "id": "ErtfPdjj4CNv"
      },
      "execution_count": null,
      "outputs": []
    },
    {
      "cell_type": "code",
      "source": [
        "data_path = '/content/plant-disease-recognition-dataset/'"
      ],
      "metadata": {
        "id": "oPKm0z6d8fiu"
      },
      "execution_count": 4,
      "outputs": []
    },
    {
      "cell_type": "code",
      "source": [
        "from tensorflow.keras.preprocessing.image import ImageDataGenerator\n",
        "\n",
        "# Define data generators for train, validation, and test data\n",
        "batch_size = 32\n",
        "image_size = (255, 255)  # Adjust according to your image size\n",
        "\n",
        "train_datagen = ImageDataGenerator(rescale=1./255, shear_range=0.2, zoom_range=0.2, horizontal_flip=True)\n",
        "train_generator = train_datagen.flow_from_directory(\n",
        "    data_path + '/Train/Train',\n",
        "    target_size=image_size,\n",
        "    batch_size=batch_size,\n",
        "    class_mode='categorical'\n",
        ")\n",
        "\n",
        "validation_datagen = ImageDataGenerator(rescale=1./255, shear_range=0.2, zoom_range=0.2, horizontal_flip=True)\n",
        "validation_generator = validation_datagen.flow_from_directory(\n",
        "    data_path + '/Validation/Validation',\n",
        "    target_size=image_size,\n",
        "    batch_size=batch_size,\n",
        "    class_mode='categorical'\n",
        ")\n",
        "\n",
        "test_datagen = ImageDataGenerator(rescale=1./255, shear_range=0.2, zoom_range=0.2, horizontal_flip=True)\n",
        "test_generator = test_datagen.flow_from_directory(\n",
        "    data_path + '/Test/Test',\n",
        "    target_size=image_size,\n",
        "    batch_size=batch_size,\n",
        "    class_mode='categorical'\n",
        ")"
      ],
      "metadata": {
        "colab": {
          "base_uri": "https://localhost:8080/"
        },
        "id": "xgqV5k4v8wN9",
        "outputId": "b40255e4-b9fd-4776-9f88-3bab8b1ff637"
      },
      "execution_count": 5,
      "outputs": [
        {
          "output_type": "stream",
          "name": "stdout",
          "text": [
            "Found 1322 images belonging to 3 classes.\n",
            "Found 60 images belonging to 3 classes.\n",
            "Found 150 images belonging to 3 classes.\n"
          ]
        }
      ]
    },
    {
      "cell_type": "code",
      "source": [
        "# Create a CNN model\n",
        "model = Sequential()\n",
        "\n",
        "model.add(Conv2D(32, (3, 3), activation='relu', input_shape=(255, 255, 3)))\n",
        "model.add(MaxPooling2D((2, 2)))\n",
        "\n",
        "model.add(Conv2D(64, (3, 3), activation='relu'))\n",
        "model.add(MaxPooling2D((2, 2)))\n",
        "\n",
        "model.add(Conv2D(64, (3, 3), activation='relu'))\n",
        "model.add(MaxPooling2D((2, 2)))\n",
        "\n",
        "model.add(Flatten())\n",
        "\n",
        "model.add(Dense(64, activation='relu'))\n",
        "model.add(Dense(3, activation='softmax'))\n",
        "\n",
        "model.compile(optimizer='adam', loss='binary_crossentropy', metrics=['accuracy'])"
      ],
      "metadata": {
        "id": "v90y3iEj4CQF"
      },
      "execution_count": 6,
      "outputs": []
    },
    {
      "cell_type": "code",
      "source": [
        "epochs = 10\n",
        "steps_per_epoch = train_generator.n // batch_size\n",
        "validation_steps = validation_generator.n // batch_size\n",
        "\n",
        "model.fit(\n",
        "    train_generator,\n",
        "    steps_per_epoch=steps_per_epoch,\n",
        "    epochs=epochs,\n",
        "    validation_data=validation_generator,\n",
        "    validation_steps=validation_steps\n",
        ")"
      ],
      "metadata": {
        "colab": {
          "base_uri": "https://localhost:8080/"
        },
        "id": "12vBLYwu4CSd",
        "outputId": "f9db55fe-feb4-44e0-af61-3bd74dfb6d06"
      },
      "execution_count": 7,
      "outputs": [
        {
          "output_type": "stream",
          "name": "stdout",
          "text": [
            "Epoch 1/10\n",
            "41/41 [==============================] - 261s 6s/step - loss: 0.6039 - accuracy: 0.4752 - val_loss: 0.5371 - val_accuracy: 0.5625\n",
            "Epoch 2/10\n",
            "41/41 [==============================] - 247s 6s/step - loss: 0.4365 - accuracy: 0.6690 - val_loss: 0.3726 - val_accuracy: 0.7500\n",
            "Epoch 3/10\n",
            "41/41 [==============================] - 247s 6s/step - loss: 0.3780 - accuracy: 0.7279 - val_loss: 0.3155 - val_accuracy: 0.8125\n",
            "Epoch 4/10\n",
            "41/41 [==============================] - 254s 6s/step - loss: 0.2884 - accuracy: 0.8056 - val_loss: 0.3226 - val_accuracy: 0.7812\n",
            "Epoch 5/10\n",
            "41/41 [==============================] - 241s 6s/step - loss: 0.1986 - accuracy: 0.8884 - val_loss: 0.2397 - val_accuracy: 0.8438\n",
            "Epoch 6/10\n",
            "41/41 [==============================] - 252s 6s/step - loss: 0.1827 - accuracy: 0.9008 - val_loss: 0.2451 - val_accuracy: 0.8750\n",
            "Epoch 7/10\n",
            "41/41 [==============================] - 250s 6s/step - loss: 0.1809 - accuracy: 0.8798 - val_loss: 0.2551 - val_accuracy: 0.8125\n",
            "Epoch 8/10\n",
            "41/41 [==============================] - 246s 6s/step - loss: 0.1319 - accuracy: 0.9364 - val_loss: 0.2866 - val_accuracy: 0.8125\n",
            "Epoch 9/10\n",
            "41/41 [==============================] - 243s 6s/step - loss: 0.1322 - accuracy: 0.9426 - val_loss: 0.1664 - val_accuracy: 0.9375\n",
            "Epoch 10/10\n",
            "41/41 [==============================] - 247s 6s/step - loss: 0.0951 - accuracy: 0.9535 - val_loss: 0.1952 - val_accuracy: 0.8750\n"
          ]
        },
        {
          "output_type": "execute_result",
          "data": {
            "text/plain": [
              "<keras.src.callbacks.History at 0x7865244fc7f0>"
            ]
          },
          "metadata": {},
          "execution_count": 7
        }
      ]
    },
    {
      "cell_type": "code",
      "source": [
        "test_steps = test_generator.n // batch_size\n",
        "test_loss, test_accuracy = model.evaluate(test_generator, steps=test_steps)\n",
        "print(\"Test accuracy: {:.2f}%\".format(test_accuracy * 100))"
      ],
      "metadata": {
        "colab": {
          "base_uri": "https://localhost:8080/"
        },
        "id": "W-yG6V4J4CU1",
        "outputId": "5c0ee7d3-f1f5-4dc5-d481-e7b792cf212b"
      },
      "execution_count": 8,
      "outputs": [
        {
          "output_type": "stream",
          "name": "stdout",
          "text": [
            "4/4 [==============================] - 17s 4s/step - loss: 0.1752 - accuracy: 0.9219\n",
            "Test accuracy: 92.19%\n"
          ]
        }
      ]
    },
    {
      "cell_type": "code",
      "source": [
        "model.save('model.h5')"
      ],
      "metadata": {
        "id": "Ng5X8GxQ4CW_",
        "colab": {
          "base_uri": "https://localhost:8080/"
        },
        "outputId": "6a4f0c98-cc5e-4715-bf70-dec9c7179605"
      },
      "execution_count": 9,
      "outputs": [
        {
          "output_type": "stream",
          "name": "stderr",
          "text": [
            "/usr/local/lib/python3.10/dist-packages/keras/src/engine/training.py:3103: UserWarning: You are saving your model as an HDF5 file via `model.save()`. This file format is considered legacy. We recommend using instead the native Keras format, e.g. `model.save('my_model.keras')`.\n",
            "  saving_api.save_model(\n"
          ]
        }
      ]
    }
  ]
}